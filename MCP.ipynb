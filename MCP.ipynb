{
 "cells": [
  {
   "cell_type": "code",
   "execution_count": 7,
   "id": "626c27a2",
   "metadata": {},
   "outputs": [
    {
     "name": "stdout",
     "output_type": "stream",
     "text": [
      "enter elements in binary format and seperated by \",\"1,1,1,0\n",
      "[1, 1, 1, 0]\n",
      "AND_function : 0\n",
      "OR_function : 0\n"
     ]
    }
   ],
   "source": [
    "def mcp_neuron(inputs_features,activate_func):\n",
    "    if any(x not in (0,1) for x in inputs_features ):\n",
    "        raise(\"enter proper functions either AND nor OR \")\n",
    "\n",
    "    if activate_func == \"AND\":\n",
    "        return int(all(inputs_features))\n",
    "\n",
    "    elif activate_func ==\"OR\":\n",
    "        return int(all(inputs_features))\n",
    "\n",
    "    else:\n",
    "        print(\"Enter proper functions(AND,OR)\")\n",
    "\n",
    "\n",
    "inputs_features = input('enter elements in binary format and seperated by \",\"',)\n",
    "inputs_features = list(int(x) for x in inputs_features.split(','))\n",
    "print(inputs_features)\n",
    "print('AND_function :', mcp_neuron(inputs_features, 'AND'))\n",
    "print('OR_function :', mcp_neuron(inputs_features, 'OR'))\n"
   ]
  },
  {
   "cell_type": "code",
   "execution_count": 8,
   "id": "694d837a",
   "metadata": {},
   "outputs": [
    {
     "data": {
      "text/plain": [
       "1"
      ]
     },
     "execution_count": 8,
     "metadata": {},
     "output_type": "execute_result"
    }
   ],
   "source": [
    "mcp_neuron([1,1,1,1],\"OR\")"
   ]
  },
  {
   "cell_type": "code",
   "execution_count": 9,
   "id": "53c07468",
   "metadata": {},
   "outputs": [
    {
     "data": {
      "text/plain": [
       "0"
      ]
     },
     "execution_count": 9,
     "metadata": {},
     "output_type": "execute_result"
    }
   ],
   "source": [
    "mcp_neuron([1,1,1,0],\"AND\")"
   ]
  },
  {
   "cell_type": "code",
   "execution_count": null,
   "id": "efaaa684",
   "metadata": {},
   "outputs": [],
   "source": []
  },
  {
   "cell_type": "code",
   "execution_count": null,
   "id": "7a9e1e09",
   "metadata": {},
   "outputs": [],
   "source": []
  }
 ],
 "metadata": {
  "kernelspec": {
   "display_name": "Python 3 (ipykernel)",
   "language": "python",
   "name": "python3"
  },
  "language_info": {
   "codemirror_mode": {
    "name": "ipython",
    "version": 3
   },
   "file_extension": ".py",
   "mimetype": "text/x-python",
   "name": "python",
   "nbconvert_exporter": "python",
   "pygments_lexer": "ipython3",
   "version": "3.9.13"
  },
  "nbTranslate": {
   "displayLangs": [
    "*"
   ],
   "hotkey": "alt-t",
   "langInMainMenu": true,
   "sourceLang": "en",
   "targetLang": "fr",
   "useGoogleTranslate": true
  }
 },
 "nbformat": 4,
 "nbformat_minor": 5
}
